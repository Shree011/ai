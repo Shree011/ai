{
 "cells": [
  {
   "cell_type": "code",
   "execution_count": 5,
   "id": "7a9ed02f",
   "metadata": {},
   "outputs": [
    {
     "name": "stdout",
     "output_type": "stream",
     "text": [
      " 0-1 : 4\n",
      " 0-7 : 8\n",
      " 7-6 : 1\n",
      " 6-5 : 2\n",
      " 5-2 : 4\n",
      " 2-8 : 2\n",
      " 2-3 : 7\n",
      " 3-4 : 9\n",
      "37\n"
     ]
    }
   ],
   "source": [
    "inf = 99999999\n",
    "n = 9\n",
    "G = [[0, 4, 0, 0, 0, 0, 0, 8, 0],\n",
    "        [4, 0, 8, 0, 0, 0, 0, 11, 0],\n",
    "        [0, 8, 0, 7, 0, 4, 0, 0, 2],\n",
    "        [0, 0, 7, 0, 9, 14, 0, 0, 0],\n",
    "        [0, 0, 0, 9, 0, 10, 0, 0, 0],\n",
    "        [0, 0, 4, 14, 10, 0, 2, 0, 0],\n",
    "        [0, 0, 0, 0, 0, 2, 0, 1, 6],\n",
    "        [8, 11, 0, 0, 0, 0, 1, 0, 7],\n",
    "        [0, 0, 2, 0, 0, 0, 6, 7, 0]]\n",
    "\n",
    "selected_node = [0] * n\n",
    "mst = 0\n",
    "edges = 0\n",
    "selected_node[0] = True\n",
    "\n",
    "\n",
    "while edges < n - 1:\n",
    "    minn = inf\n",
    "    a = 0\n",
    "    b = 0\n",
    "    \n",
    "    for i in range(n):\n",
    "        if selected_node[i]:\n",
    "            for j in range(n):\n",
    "                if((not selected_node[j]) and G[i][j]):\n",
    "                    if minn > G[i][j]:\n",
    "                        minn = G[i][j]\n",
    "                        a = i\n",
    "                        b = j\n",
    "                        \n",
    "                        \n",
    "    print (\" \" + str(a) + \"-\" + str(b) + \" \" + \":\" + \" \" + str(G[a][b])) \n",
    "    mst += minn\n",
    "    selected_node[b] = True\n",
    "    edges += 1\n",
    "    \n",
    "print(mst)"
   ]
  },
  {
   "cell_type": "code",
   "execution_count": null,
   "id": "42680d94",
   "metadata": {},
   "outputs": [],
   "source": []
  },
  {
   "cell_type": "code",
   "execution_count": null,
   "id": "98d79429",
   "metadata": {},
   "outputs": [],
   "source": []
  },
  {
   "cell_type": "code",
   "execution_count": null,
   "id": "173c6c5f",
   "metadata": {},
   "outputs": [],
   "source": []
  },
  {
   "cell_type": "code",
   "execution_count": null,
   "id": "3aba92ff",
   "metadata": {},
   "outputs": [],
   "source": []
  }
 ],
 "metadata": {
  "kernelspec": {
   "display_name": "Python 3 (ipykernel)",
   "language": "python",
   "name": "python3"
  },
  "language_info": {
   "codemirror_mode": {
    "name": "ipython",
    "version": 3
   },
   "file_extension": ".py",
   "mimetype": "text/x-python",
   "name": "python",
   "nbconvert_exporter": "python",
   "pygments_lexer": "ipython3",
   "version": "3.10.5"
  }
 },
 "nbformat": 4,
 "nbformat_minor": 5
}
