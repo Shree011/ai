{
 "cells": [
  {
   "cell_type": "code",
   "execution_count": 18,
   "id": "4fd21282",
   "metadata": {},
   "outputs": [
    {
     "name": "stdout",
     "output_type": "stream",
     "text": [
      "2 3 4\n",
      "0 3 5\n",
      "0 1 10\n",
      "Minimum we 19\n"
     ]
    }
   ],
   "source": [
    "graph = []\n",
    "V = 4\n",
    "\n",
    "\n",
    "def add(x, y, w):\n",
    "    graph.append([x,y,w])\n",
    "    #V = V + 1\n",
    "\n",
    "def find(parent, i):\n",
    "    if parent[i] != i:\n",
    "        parent[i] = find(parent, parent[i])\n",
    "    return parent[i]\n",
    "\n",
    "def union(parent, rank, x, y):\n",
    "    if rank[x] > rank[y]:\n",
    "        parent[y] = x\n",
    "    elif rank[x] < rank[y]:\n",
    "        parent[x] = y\n",
    "    else:\n",
    "        parent[y] = x\n",
    "        rank[x] += 1\n",
    "    \n",
    "def kruskal():\n",
    "    parent = []\n",
    "    result = []\n",
    "    rank = []\n",
    "    i = 0\n",
    "    e = 0\n",
    "    for node in range(V):\n",
    "        parent.append(node)\n",
    "        rank.append(0)\n",
    "    \n",
    "    graph.sort(key=lambda item: item[2])\n",
    "    \n",
    "    while e < V - 1:\n",
    "        u, v, w = graph[i]\n",
    "        i = i + 1\n",
    "        x = find(parent, u)\n",
    "        y = find(parent, v)\n",
    "        \n",
    "        if x != y:\n",
    "            e = e + 1\n",
    "            result.append([u, v, w])\n",
    "            union(parent, rank, x, y)\n",
    "    minWe = 0\n",
    "    for a, b, c in result:\n",
    "        minWe += c\n",
    "        print(a, b, c)\n",
    "    print('Minimum we', minWe)\n",
    "    \n",
    "add(0,1,10)\n",
    "add(0,2,6)\n",
    "add(0,3,5)\n",
    "add(1,3,15)\n",
    "add(2,3,4);\n",
    "\n",
    "kruskal()\n"
   ]
  },
  {
   "cell_type": "code",
   "execution_count": null,
   "id": "83b376d3",
   "metadata": {},
   "outputs": [],
   "source": []
  }
 ],
 "metadata": {
  "kernelspec": {
   "display_name": "Python 3 (ipykernel)",
   "language": "python",
   "name": "python3"
  },
  "language_info": {
   "codemirror_mode": {
    "name": "ipython",
    "version": 3
   },
   "file_extension": ".py",
   "mimetype": "text/x-python",
   "name": "python",
   "nbconvert_exporter": "python",
   "pygments_lexer": "ipython3",
   "version": "3.10.5"
  }
 },
 "nbformat": 4,
 "nbformat_minor": 5
}
