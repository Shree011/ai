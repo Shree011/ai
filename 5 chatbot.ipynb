{
 "cells": [
  {
   "cell_type": "code",
   "execution_count": null,
   "id": "9ac2e0dd",
   "metadata": {},
   "outputs": [],
   "source": [
    "import random\n",
    "\n",
    "# Dictionary of possible responses\n",
    "responses = {\n",
    "    \"greeting\": [\"Hello! How can I assist you today?\", \"Hi there! How may I help you?\", \"Welcome to JioMart! How can I assist you?\"],\n",
    "    \"product_inquiry\": [\"Sure, which product are you interested in?\", \"What product would you like to inquire about?\", \"How can I assist you with a specific product?\"],\n",
    "    \"order_status\": [\"Please provide your order details, and I will check the status for you.\", \"Sure, I can help you with that. Can you please provide your order details?\"],\n",
    "    \"thanks\": [\"You're welcome! If you have any more questions, feel free to ask.\", \"You're welcome! Let me know if there's anything else I can assist you with.\", \"No problem! If you need further assistance, feel free to ask.\"],\n",
    "    \"fallback\": [\"I'm sorry, I didn't understand. Can you please rephrase your query?\", \"Apologies, but I'm having trouble understanding. Could you please provide more information?\"]\n",
    "}\n",
    "\n",
    "# Function to handle user input and generate a response\n",
    "def generate_response(user_input):\n",
    "    if user_input.lower() in [\"hi\", \"hello\", \"hey\"]:\n",
    "        return random.choice(responses[\"greeting\"])\n",
    "    elif \"product\" in user_input.lower() and (\"inquiry\" in user_input.lower() or \"information\" in user_input.lower()):\n",
    "        return random.choice(responses[\"product_inquiry\"])\n",
    "    elif \"order\" in user_input.lower() and (\"status\" in user_input.lower() or \"track\" in user_input.lower()):\n",
    "        return random.choice(responses[\"order_status\"])\n",
    "    elif \"thank\" in user_input.lower():\n",
    "        return random.choice(responses[\"thanks\"])\n",
    "    else:\n",
    "        return random.choice(responses[\"fallback\"])\n",
    "\n",
    "# Main interaction loop\n",
    "print(\"Welcome to JioMart Customer Support!\")\n",
    "print(\"How can I assist you today?\")\n",
    "\n",
    "while True:\n",
    "    user_input = input(\"> \")\n",
    "    response = generate_response(user_input)\n",
    "    print(response)\n"
   ]
  }
 ],
 "metadata": {
  "kernelspec": {
   "display_name": "Python 3 (ipykernel)",
   "language": "python",
   "name": "python3"
  },
  "language_info": {
   "codemirror_mode": {
    "name": "ipython",
    "version": 3
   },
   "file_extension": ".py",
   "mimetype": "text/x-python",
   "name": "python",
   "nbconvert_exporter": "python",
   "pygments_lexer": "ipython3",
   "version": "3.10.5"
  }
 },
 "nbformat": 4,
 "nbformat_minor": 5
}
