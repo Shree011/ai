{
 "cells": [
  {
   "cell_type": "code",
   "execution_count": 7,
   "id": "d2995d2c",
   "metadata": {},
   "outputs": [
    {
     "name": "stdout",
     "output_type": "stream",
     "text": [
      "5\n",
      "3\n",
      "7\n",
      "2\n",
      "4\n",
      "8\n"
     ]
    }
   ],
   "source": [
    "graph = {\n",
    "    '5': ['3', '7'],\n",
    "    '3': ['2', '4'],\n",
    "    '7': ['8'],\n",
    "    '2': [],\n",
    "    '4': ['8'],\n",
    "    '8': []\n",
    "}\n",
    "visited = []\n",
    "queue = []\n",
    "\n",
    "def bfs(visited, graph, node):\n",
    "    visited.append(node)\n",
    "    queue.append(node)\n",
    "    \n",
    "    while queue:\n",
    "        t = queue.pop(0)\n",
    "        if type(t) == int:\n",
    "            print(t, end=\"\\n\")\n",
    "        else:\n",
    "            for i in t:\n",
    "                print(i, end=\"\\n\")\n",
    "        \n",
    "        for key, value in graph.items():\n",
    "            if value not in visited:\n",
    "                queue.append(value)\n",
    "                visited.append(value)\n",
    "\n",
    "bfs(visited, graph, 5)"
   ]
  },
  {
   "cell_type": "code",
   "execution_count": null,
   "id": "023c4c9e",
   "metadata": {},
   "outputs": [],
   "source": []
  }
 ],
 "metadata": {
  "kernelspec": {
   "display_name": "Python 3 (ipykernel)",
   "language": "python",
   "name": "python3"
  },
  "language_info": {
   "codemirror_mode": {
    "name": "ipython",
    "version": 3
   },
   "file_extension": ".py",
   "mimetype": "text/x-python",
   "name": "python",
   "nbconvert_exporter": "python",
   "pygments_lexer": "ipython3",
   "version": "3.10.5"
  }
 },
 "nbformat": 4,
 "nbformat_minor": 5
}
