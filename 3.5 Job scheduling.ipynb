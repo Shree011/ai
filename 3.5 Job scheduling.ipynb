{
 "cells": [
  {
   "cell_type": "code",
   "execution_count": 5,
   "id": "11b314b9",
   "metadata": {},
   "outputs": [
    {
     "name": "stdout",
     "output_type": "stream",
     "text": [
      "['c', 'a', 'e']\n"
     ]
    }
   ],
   "source": [
    "def jobsch(arr, t):\n",
    "    n = len(arr)\n",
    "    result = [0] * t\n",
    "    job = ['-1'] * t\n",
    "    \n",
    "    arr.sort(key=lambda item:item[2], reverse=True)\n",
    "    \n",
    "    for i in range(n):\n",
    "        for j in range(min(t-1, arr[i][1] - 1), -1, -1):\n",
    "            if result[j] == False:\n",
    "                result[j] = True\n",
    "                job[j] = arr[i][0]\n",
    "                break\n",
    "    \n",
    "    print(job)\n",
    "arr = [['a', 2, 100],\n",
    "       ['b', 1, 19],\n",
    "       ['c', 2, 27],\n",
    "       ['d', 1, 25],\n",
    "       ['e', 3, 15]]\n",
    "jobsch(arr, 3)"
   ]
  },
  {
   "cell_type": "code",
   "execution_count": null,
   "id": "8c17bba8",
   "metadata": {},
   "outputs": [],
   "source": []
  }
 ],
 "metadata": {
  "kernelspec": {
   "display_name": "Python 3 (ipykernel)",
   "language": "python",
   "name": "python3"
  },
  "language_info": {
   "codemirror_mode": {
    "name": "ipython",
    "version": 3
   },
   "file_extension": ".py",
   "mimetype": "text/x-python",
   "name": "python",
   "nbconvert_exporter": "python",
   "pygments_lexer": "ipython3",
   "version": "3.10.5"
  }
 },
 "nbformat": 4,
 "nbformat_minor": 5
}
